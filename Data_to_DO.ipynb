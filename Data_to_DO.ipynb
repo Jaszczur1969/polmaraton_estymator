{
 "cells": [
  {
   "cell_type": "code",
   "execution_count": 1,
   "id": "df031260-974f-49de-9b81-8b7d2688f44c",
   "metadata": {},
   "outputs": [],
   "source": [
    "import pandas as pd\n",
    "from dotenv import load_dotenv\n",
    "import boto3  # do inicjacji serwisu S3\n",
    "import os"
   ]
  },
  {
   "cell_type": "markdown",
   "id": "15623b6a-ce5f-468e-a9f7-ee52628bd6ad",
   "metadata": {},
   "source": [
    "# 1. Uploadujemy pliki do Digital Ocean"
   ]
  },
  {
   "cell_type": "code",
   "execution_count": 2,
   "id": "947c39bc-960f-4e05-8db3-44e5721b1e85",
   "metadata": {},
   "outputs": [
    {
     "data": {
      "text/plain": [
       "True"
      ]
     },
     "execution_count": 2,
     "metadata": {},
     "output_type": "execute_result"
    }
   ],
   "source": [
    "# wczytuję zmienne środowiskowe z pliku .env\n",
    "load_dotenv()"
   ]
  },
  {
   "cell_type": "code",
   "execution_count": 3,
   "id": "e5c0cb93-7885-4a5e-bd64-4dd733b2c07b",
   "metadata": {},
   "outputs": [],
   "source": [
    "#inicjujemy Boto 3 dla serwisu S3\n",
    "s3 = boto3.client(\n",
    "    \"s3\",)"
   ]
  },
  {
   "cell_type": "code",
   "execution_count": 4,
   "id": "0d563454-02ee-450e-88db-041e02c28d42",
   "metadata": {},
   "outputs": [],
   "source": [
    "# wskazujemy wiadro z DO którego chcemy użyć \n",
    "BUCKET_NAME = \"wiadro-jaszczur1969\""
   ]
  },
  {
   "cell_type": "code",
   "execution_count": 5,
   "id": "69d06896-f1dc-46ad-b0ae-f7dbab7b1658",
   "metadata": {},
   "outputs": [
    {
     "name": "stdout",
     "output_type": "stream",
     "text": [
      "Wysyłam plik upload\\halfmarathon_wroclaw_2023__final.csv do stocks/halfmarathon_wroclaw_2023__final.csv\n",
      "Wysyłam plik upload\\halfmarathon_wroclaw_2024__final.csv do stocks/halfmarathon_wroclaw_2024__final.csv\n"
     ]
    }
   ],
   "source": [
    "# wysyłamy pliki z naszymi csv z folderu upload \n",
    "for root, dirs, files in os.walk(\"upload\"):\n",
    "    for file in files:\n",
    "        file_path = os.path.join(root, file)\n",
    "        s3_path = file_path.replace(\"\\\\\",\"/\").replace(\"upload/\", \"stocks/\")\n",
    "        print(f\"Wysyłam plik {os.path.join(root, file)} do {s3_path}\") \n",
    "        s3.upload_file(\n",
    "            Filename=file_path,\n",
    "            Bucket=BUCKET_NAME,\n",
    "            Key=s3_path\n",
    "        )"
   ]
  },
  {
   "cell_type": "code",
   "execution_count": 6,
   "id": "702585ec-5963-47ba-9143-4ec6fccb53af",
   "metadata": {},
   "outputs": [
    {
     "name": "stdout",
     "output_type": "stream",
     "text": [
      "stocks/halfmarathon_wroclaw_2023__final.csv\n",
      "stocks/halfmarathon_wroclaw_2024__final.csv\n"
     ]
    }
   ],
   "source": [
    "# sprawdzam czy plik jest już w Spaces Object Storage\n",
    "response = s3.list_objects_v2(Bucket=BUCKET_NAME)\n",
    "\n",
    "for obj in response[\"Contents\"]:\n",
    "    print(obj[\"Key\"]) "
   ]
  },
  {
   "cell_type": "code",
   "execution_count": null,
   "id": "fc4f8da2-e36e-4bc7-8785-538e92ec7d53",
   "metadata": {},
   "outputs": [],
   "source": []
  }
 ],
 "metadata": {
  "kernelspec": {
   "display_name": "Python 3 (ipykernel)",
   "language": "python",
   "name": "python3"
  },
  "language_info": {
   "codemirror_mode": {
    "name": "ipython",
    "version": 3
   },
   "file_extension": ".py",
   "mimetype": "text/x-python",
   "name": "python",
   "nbconvert_exporter": "python",
   "pygments_lexer": "ipython3",
   "version": "3.11.11"
  }
 },
 "nbformat": 4,
 "nbformat_minor": 5
}
